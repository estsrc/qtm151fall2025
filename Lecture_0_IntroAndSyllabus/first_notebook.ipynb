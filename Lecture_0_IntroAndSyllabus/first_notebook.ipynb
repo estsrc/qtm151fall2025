{
 "cells": [
  {
   "cell_type": "markdown",
   "id": "6c26a024",
   "metadata": {},
   "source": [
    "<font size = \"8\" >This is my first Juptyer Notebook </span>"
   ]
  },
  {
   "cell_type": "code",
   "execution_count": 1,
   "id": "7074124b",
   "metadata": {},
   "outputs": [
    {
     "name": "stdout",
     "output_type": "stream",
     "text": [
      "My name is Esat Sarac\n"
     ]
    }
   ],
   "source": [
    "print(\"My name is Esat Sarac\")"
   ]
  }
 ],
 "metadata": {
  "kernelspec": {
   "display_name": "base",
   "language": "python",
   "name": "python3"
  },
  "language_info": {
   "codemirror_mode": {
    "name": "ipython",
    "version": 3
   },
   "file_extension": ".py",
   "mimetype": "text/x-python",
   "name": "python",
   "nbconvert_exporter": "python",
   "pygments_lexer": "ipython3",
   "version": "3.12.7"
  }
 },
 "nbformat": 4,
 "nbformat_minor": 5
}
